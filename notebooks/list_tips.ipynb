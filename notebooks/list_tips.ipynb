{
 "cells": [
  {
   "cell_type": "markdown",
   "metadata": {},
   "source": [
    "# Python = [\"Seven\", \"Things\", \"To\", \"Do\", \"With\", \"Lists\"]"
   ]
  },
  {
   "cell_type": "markdown",
   "metadata": {},
   "source": [
    "### Conventional Method"
   ]
  },
  {
   "cell_type": "code",
   "execution_count": null,
   "metadata": {
    "collapsed": false
   },
   "outputs": [],
   "source": [
    "x_coords =  [101, 102, 103, 104, 105, 111, 107, 112]\n",
    "y_coords =  [552, 557, 524, 522, 526, 530, 535, 540]\n",
    "frame_num = [22, 23, 24, 27, 28, 29, 30, 31]\n",
    "\n",
    "i = 0\n",
    "for coord in x_coords:\n",
    "    print(frame_num[i], x_coords[i], y_coords[i])\n",
    "    i += 1"
   ]
  },
  {
   "cell_type": "markdown",
   "metadata": {},
   "source": [
    "## 1. Enumerate"
   ]
  },
  {
   "cell_type": "code",
   "execution_count": 9,
   "metadata": {
    "collapsed": false
   },
   "outputs": [
    {
     "name": "stdout",
     "output_type": "stream",
     "text": [
      "22 101 552\n",
      "23 102 557\n",
      "24 103 524\n",
      "27 104 522\n",
      "28 105 526\n",
      "29 111 530\n",
      "30 107 535\n",
      "31 112 540\n"
     ]
    }
   ],
   "source": [
    "for i, coord in enumerate(x_coords):\n",
    "    print(frame_num[i], x_coords[i], y_coords[i])"
   ]
  },
  {
   "cell_type": "markdown",
   "metadata": {},
   "source": [
    "## 2. Zip"
   ]
  },
  {
   "cell_type": "code",
   "execution_count": null,
   "metadata": {
    "collapsed": false
   },
   "outputs": [],
   "source": [
    "for x, y in zip(x_coords, y_coords):\n",
    "    print(x, y)"
   ]
  },
  {
   "cell_type": "markdown",
   "metadata": {},
   "source": [
    "### Enumerate + Zip"
   ]
  },
  {
   "cell_type": "code",
   "execution_count": 12,
   "metadata": {
    "collapsed": false
   },
   "outputs": [
    {
     "name": "stdout",
     "output_type": "stream",
     "text": [
      "22 101 552\n",
      "23 102 557\n",
      "24 103 524\n",
      "27 104 522\n",
      "28 105 526\n",
      "29 111 530\n",
      "30 107 535\n",
      "31 112 540\n"
     ]
    }
   ],
   "source": [
    "# will work with shoter list, but if lists longer than i, will give error\n",
    "for i, (x, y) in enumerate(zip(x_coords, y_coords)):\n",
    "    print(frame_num[i], x, y)"
   ]
  },
  {
   "cell_type": "markdown",
   "metadata": {},
   "source": [
    "### Cautions"
   ]
  },
  {
   "cell_type": "code",
   "execution_count": null,
   "metadata": {
    "collapsed": false
   },
   "outputs": [],
   "source": [
    "x_coords2 =  [101, 102, 103, 104, 105, 111, 107, 112]\n",
    "y_coords2 =  [552, 557, 524, 522, 526, 530, 535, 540] # test out shorter\n",
    "frame_num2 = [22, 23, 24, 27, 28, 29, 30, 31]         # test out shorter\n",
    "\n",
    "for i, (x, y) in enumerate(zip(x_coords, y_coords2)):\n",
    "    print(frame_num[i], x, y)"
   ]
  },
  {
   "cell_type": "markdown",
   "metadata": {},
   "source": [
    "## 3. List Comprehensions"
   ]
  },
  {
   "cell_type": "code",
   "execution_count": null,
   "metadata": {
    "collapsed": false
   },
   "outputs": [],
   "source": [
    "x_coords =  [101, 102, 103, 104, 105, 111, 107, 112]\n",
    "\n",
    "squared_list = []\n",
    "for coord in x_coords:\n",
    "    squared = coord * coord\n",
    "    squared_list.append(squared)\n",
    "    \n",
    "print(squared_list)"
   ]
  },
  {
   "cell_type": "code",
   "execution_count": null,
   "metadata": {
    "collapsed": false
   },
   "outputs": [],
   "source": [
    "x_coords =  [101, 102, 103, 104, 105, 111, 107, 112]\n",
    "squared_list = [coord * coord for coord in x_coords]\n",
    "\n",
    "print(squared_list)"
   ]
  },
  {
   "cell_type": "code",
   "execution_count": null,
   "metadata": {
    "collapsed": false
   },
   "outputs": [],
   "source": [
    "x_coords =  [101, 102, 103, 104, 105, 111, 107, 112]\n",
    "squared_list = [coord * coord for coord in x_coords if coord > 110]\n",
    "\n",
    "print(squared_list)"
   ]
  },
  {
   "cell_type": "code",
   "execution_count": null,
   "metadata": {
    "collapsed": false
   },
   "outputs": [],
   "source": [
    "x_coords =  [101, 102, 103, 104, 105, 111, 107, 112]\n",
    "squared_list = [coord * coord if coord > 110 else 0 for coord in x_coords]\n",
    "\n",
    "print(squared_list)"
   ]
  },
  {
   "cell_type": "markdown",
   "metadata": {},
   "source": [
    "## 4. Sets"
   ]
  },
  {
   "cell_type": "code",
   "execution_count": 5,
   "metadata": {
    "collapsed": false
   },
   "outputs": [
    {
     "name": "stdout",
     "output_type": "stream",
     "text": [
      "{1, 2, 3, 4, 5, 6, 7, 8, 9}\n"
     ]
    }
   ],
   "source": [
    "duplicate = [1, 2, 2, 2, 3, 4, 5, 6, 7, 8, 9, 9, 9, 9, 9]\n",
    "unique = set(duplicate)\n",
    "print(unique)"
   ]
  },
  {
   "cell_type": "code",
   "execution_count": 8,
   "metadata": {
    "collapsed": false
   },
   "outputs": [
    {
     "name": "stdout",
     "output_type": "stream",
     "text": [
      "{(1, 2), (3, 4), (3, 3), (2, 1), (2, 2)}\n"
     ]
    }
   ],
   "source": [
    "# Note that I'm using a list of tuples\n",
    "duplicate_groups = [(1, 2), (2, 1), (3, 4), (1, 2), (3, 3), (3, 3), (2, 2)] # cares about order within tuples\n",
    "unique_groups = set(duplicate_groups)\n",
    "print(unique_groups)"
   ]
  },
  {
   "cell_type": "code",
   "execution_count": null,
   "metadata": {
    "collapsed": true
   },
   "outputs": [],
   "source": [
    "# other things with sets"
   ]
  },
  {
   "cell_type": "markdown",
   "metadata": {},
   "source": [
    "## 5. Map"
   ]
  },
  {
   "cell_type": "code",
   "execution_count": null,
   "metadata": {
    "collapsed": true
   },
   "outputs": [],
   "source": []
  },
  {
   "cell_type": "markdown",
   "metadata": {},
   "source": [
    "## 6. Filter"
   ]
  },
  {
   "cell_type": "code",
   "execution_count": null,
   "metadata": {
    "collapsed": true
   },
   "outputs": [],
   "source": []
  },
  {
   "cell_type": "markdown",
   "metadata": {},
   "source": [
    "## 7. Reduce"
   ]
  },
  {
   "cell_type": "code",
   "execution_count": null,
   "metadata": {
    "collapsed": true
   },
   "outputs": [],
   "source": []
  }
 ],
 "metadata": {
  "kernelspec": {
   "display_name": "Python 3",
   "language": "python",
   "name": "python3"
  },
  "language_info": {
   "codemirror_mode": {
    "name": "ipython",
    "version": 3
   },
   "file_extension": ".py",
   "mimetype": "text/x-python",
   "name": "python",
   "nbconvert_exporter": "python",
   "pygments_lexer": "ipython3",
   "version": "3.4.3"
  }
 },
 "nbformat": 4,
 "nbformat_minor": 0
}
