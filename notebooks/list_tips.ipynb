{
 "cells": [
  {
   "cell_type": "markdown",
   "metadata": {},
   "source": [
    "# Python = [\"Ten\", \"Things\", \"To\", \"Do\", \"With\", \"Lists\"]"
   ]
  },
  {
   "cell_type": "markdown",
   "metadata": {},
   "source": [
    "### Conventional Method"
   ]
  },
  {
   "cell_type": "code",
   "execution_count": null,
   "metadata": {
    "collapsed": false
   },
   "outputs": [],
   "source": [
    "x_coords =  [101, 102, 103, 104, 105, 111, 107, 112]\n",
    "y_coords =  [552, 557, 524, 522, 526, 530, 535, 540]\n",
    "frame_num = [22, 23, 24, 27, 28, 29, 30, 31]\n",
    "\n",
    "i = 0\n",
    "for coord in x_coords:\n",
    "    print(frame_num[i], x_coords[i], y_coords[i])\n",
    "    i += 1"
   ]
  },
  {
   "cell_type": "markdown",
   "metadata": {},
   "source": [
    "## 1. Enumerate"
   ]
  },
  {
   "cell_type": "code",
   "execution_count": null,
   "metadata": {
    "collapsed": false
   },
   "outputs": [],
   "source": [
    "for i, coord in enumerate(x_coords):\n",
    "    print(frame_num[i], x_coords[i], y_coords[i])"
   ]
  },
  {
   "cell_type": "markdown",
   "metadata": {},
   "source": [
    "## 2. Zip"
   ]
  },
  {
   "cell_type": "code",
   "execution_count": null,
   "metadata": {
    "collapsed": false
   },
   "outputs": [],
   "source": [
    "for x, y in zip(x_coords, y_coords):\n",
    "    print(x, y)"
   ]
  },
  {
   "cell_type": "markdown",
   "metadata": {},
   "source": [
    "### Enumerate + Zip"
   ]
  },
  {
   "cell_type": "code",
   "execution_count": null,
   "metadata": {
    "collapsed": false
   },
   "outputs": [],
   "source": [
    "# will work with shoter list, but if lists longer than i, will give error\n",
    "for i, (x, y) in enumerate(zip(x_coords, y_coords)):\n",
    "    print(frame_num[i], x, y)"
   ]
  },
  {
   "cell_type": "markdown",
   "metadata": {},
   "source": [
    "### Cautions"
   ]
  },
  {
   "cell_type": "code",
   "execution_count": null,
   "metadata": {
    "collapsed": false
   },
   "outputs": [],
   "source": [
    "x_coords2 =  [101, 102, 103, 104, 105, 111, 107, 112]\n",
    "y_coords2 =  [552, 557, 524, 522, 526, 530, 535, 540] # test out shorter\n",
    "frame_num2 = [22, 23, 24, 27, 28, 29, 30, 31]         # test out shorter\n",
    "\n",
    "for i, (x, y) in enumerate(zip(x_coords, y_coords2)):\n",
    "    print(frame_num[i], x, y)"
   ]
  },
  {
   "cell_type": "markdown",
   "metadata": {},
   "source": [
    "## 3. Strings are lists too"
   ]
  },
  {
   "cell_type": "code",
   "execution_count": 25,
   "metadata": {
    "collapsed": false
   },
   "outputs": [
    {
     "name": "stdout",
     "output_type": "stream",
     "text": [
      "2\n",
      "[1, 2, 3, 4]\n"
     ]
    }
   ],
   "source": [
    "list_of_nums = [1, 2, 3, 4, 5]\n",
    "print(list_of_nums[1])\n",
    "print(list_of_nums[0:4])"
   ]
  },
  {
   "cell_type": "code",
   "execution_count": 26,
   "metadata": {
    "collapsed": false
   },
   "outputs": [
    {
     "name": "stdout",
     "output_type": "stream",
     "text": [
      "A\n",
      "G\n",
      "GGGUA\n"
     ]
    }
   ],
   "source": [
    "rna = \"AUGGG\"\n",
    "print(rna[0])\n",
    "print(rna[-1])\n",
    "print(rna[-1::-1])"
   ]
  },
  {
   "cell_type": "markdown",
   "metadata": {},
   "source": [
    "## 4. Initialising Lists"
   ]
  },
  {
   "cell_type": "code",
   "execution_count": 2,
   "metadata": {
    "collapsed": false
   },
   "outputs": [
    {
     "name": "stdout",
     "output_type": "stream",
     "text": [
      "AGTAGTAGTAGTAGTAGTAGTAGTAGTAGTAGTAGTAGTAGTAGTAGTAGTAGTAGTAGTAGTAGTAGTAGTAGT\n"
     ]
    }
   ],
   "source": [
    "dna = \"AGT\" * 25\n",
    "print(dna)"
   ]
  },
  {
   "cell_type": "code",
   "execution_count": 6,
   "metadata": {
    "collapsed": false
   },
   "outputs": [
    {
     "name": "stdout",
     "output_type": "stream",
     "text": [
      "['AGT', 'AGT', 'AGT', 'AGT', 'AGT']\n"
     ]
    }
   ],
   "source": [
    "dna_list = [\"AGT\"] * 5\n",
    "print(dna_list)"
   ]
  },
  {
   "cell_type": "code",
   "execution_count": 7,
   "metadata": {
    "collapsed": false
   },
   "outputs": [
    {
     "name": "stdout",
     "output_type": "stream",
     "text": [
      "['AGTAGTAGTAGTAGTAGTAGTAGTAGTAGTAGTAGTAGTAGTAGTAGTAGTAGTAGTAGT', 'AGTAGTAGTAGTAGTAGTAGTAGTAGTAGTAGTAGTAGTAGTAGTAGTAGTAGTAGTAGT', 'AGTAGTAGTAGTAGTAGTAGTAGTAGTAGTAGTAGTAGTAGTAGTAGTAGTAGTAGTAGT', 'AGTAGTAGTAGTAGTAGTAGTAGTAGTAGTAGTAGTAGTAGTAGTAGTAGTAGTAGTAGT', 'AGTAGTAGTAGTAGTAGTAGTAGTAGTAGTAGTAGTAGTAGTAGTAGTAGTAGTAGTAGT']\n"
     ]
    }
   ],
   "source": [
    "long_dna_list = [\"AGT\" * 20] * 5\n",
    "print(long_dna_list)"
   ]
  },
  {
   "cell_type": "code",
   "execution_count": 11,
   "metadata": {
    "collapsed": false
   },
   "outputs": [
    {
     "name": "stdout",
     "output_type": "stream",
     "text": [
      "[None, None, None, None, None, None, None, None, None, None]\n",
      "[5, 5, 5, 5, 5, 5, 5, 5, 5, 5]\n"
     ]
    }
   ],
   "source": [
    "empty_list = [None] * 10\n",
    "print(empty_list)\n",
    "\n",
    "for i, item in enumerate(empty_list):\n",
    "    empty_list[i] = 5\n",
    "\n",
    "print(empty_list)"
   ]
  },
  {
   "cell_type": "markdown",
   "metadata": {},
   "source": [
    "## 5. Using the range"
   ]
  },
  {
   "cell_type": "code",
   "execution_count": 27,
   "metadata": {
    "collapsed": false
   },
   "outputs": [
    {
     "name": "stdout",
     "output_type": "stream",
     "text": [
      "1\n",
      "2\n",
      "3\n",
      "4\n",
      "5\n",
      "6\n",
      "7\n",
      "8\n",
      "9\n"
     ]
    }
   ],
   "source": [
    "for i in range(1, 10):\n",
    "    print(i)"
   ]
  },
  {
   "cell_type": "markdown",
   "metadata": {},
   "source": [
    "## 6. List Comprehensions"
   ]
  },
  {
   "cell_type": "code",
   "execution_count": null,
   "metadata": {
    "collapsed": false
   },
   "outputs": [],
   "source": [
    "x_coords =  [101, 102, 103, 104, 105, 111, 107, 112]\n",
    "\n",
    "squared_list = []\n",
    "for coord in x_coords:\n",
    "    squared = coord * coord\n",
    "    squared_list.append(squared)\n",
    "    \n",
    "print(squared_list)"
   ]
  },
  {
   "cell_type": "code",
   "execution_count": null,
   "metadata": {
    "collapsed": false
   },
   "outputs": [],
   "source": [
    "x_coords =  [101, 102, 103, 104, 105, 111, 107, 112]\n",
    "squared_list = [coord * coord for coord in x_coords]\n",
    "\n",
    "print(squared_list)"
   ]
  },
  {
   "cell_type": "code",
   "execution_count": null,
   "metadata": {
    "collapsed": false
   },
   "outputs": [],
   "source": [
    "x_coords =  [101, 102, 103, 104, 105, 111, 107, 112]\n",
    "squared_list = [coord * coord for coord in x_coords if coord > 110]\n",
    "\n",
    "print(squared_list)"
   ]
  },
  {
   "cell_type": "code",
   "execution_count": null,
   "metadata": {
    "collapsed": false
   },
   "outputs": [],
   "source": [
    "x_coords =  [101, 102, 103, 104, 105, 111, 107, 112]\n",
    "squared_list = [coord * coord if coord > 110 else 0 for coord in x_coords]\n",
    "\n",
    "print(squared_list)"
   ]
  },
  {
   "cell_type": "markdown",
   "metadata": {},
   "source": [
    "## 7. Sets"
   ]
  },
  {
   "cell_type": "code",
   "execution_count": null,
   "metadata": {
    "collapsed": false
   },
   "outputs": [],
   "source": [
    "duplicate = [1, 2, 2, 2, 3, 4, 5, 6, 7, 8, 9, 9, 9, 9, 9]\n",
    "unique = set(duplicate)\n",
    "print(unique)"
   ]
  },
  {
   "cell_type": "code",
   "execution_count": null,
   "metadata": {
    "collapsed": false
   },
   "outputs": [],
   "source": [
    "# Note that I'm using a list of tuples\n",
    "duplicate_groups = [(1, 2), (2, 1), (3, 4), (1, 2), (3, 3), (3, 3), (2, 2)] # cares about order within tuples\n",
    "unique_groups = set(duplicate_groups)\n",
    "print(unique_groups)"
   ]
  },
  {
   "cell_type": "markdown",
   "metadata": {},
   "source": [
    "### Union"
   ]
  },
  {
   "cell_type": "code",
   "execution_count": null,
   "metadata": {
    "collapsed": false
   },
   "outputs": [],
   "source": [
    "# normal way to join two lists\n",
    "sports_list1 = [\"Tennis\", \"Cricket\", \"Rugby\", \"AFL\", \"Archery\"]\n",
    "sports_list2 = [\"Tennis\", \"Cricket\", \"Fencing\", \"Swimming\"]\n",
    "sports_list1.extend(sports_list2)\n",
    "print(sports_list1)"
   ]
  },
  {
   "cell_type": "code",
   "execution_count": null,
   "metadata": {
    "collapsed": false
   },
   "outputs": [],
   "source": [
    "# ensuring you only only have unique elements\n",
    "sports1 = set([\"Tennis\", \"Cricket\", \"Rugby\", \"AFL\", \"Archery\"])\n",
    "sports2 = set([\"Tennis\", \"Cricket\", \"Fencing\", \"Swimming\"])\n",
    "\n",
    "all_sports = sports1.union(sports2)\n",
    "print(all_sports)"
   ]
  },
  {
   "cell_type": "markdown",
   "metadata": {
    "collapsed": true
   },
   "source": [
    "### Intersection"
   ]
  },
  {
   "cell_type": "code",
   "execution_count": null,
   "metadata": {
    "collapsed": false
   },
   "outputs": [],
   "source": [
    "# sports the sets have in common\n",
    "print(sports1.intersection(sports2))"
   ]
  },
  {
   "cell_type": "markdown",
   "metadata": {},
   "source": [
    "### Difference"
   ]
  },
  {
   "cell_type": "code",
   "execution_count": null,
   "metadata": {
    "collapsed": false
   },
   "outputs": [],
   "source": [
    "# sports one set has that the other does not\n",
    "print(sports1.difference(sports2))\n",
    "print(sports2.difference(sports1))"
   ]
  },
  {
   "cell_type": "markdown",
   "metadata": {},
   "source": [
    "### Symmetric Difference"
   ]
  },
  {
   "cell_type": "code",
   "execution_count": null,
   "metadata": {
    "collapsed": false
   },
   "outputs": [],
   "source": [
    "# sports neither set have in common\n",
    "print(sports1.symmetric_difference(sports2))"
   ]
  },
  {
   "cell_type": "markdown",
   "metadata": {},
   "source": [
    "## 8. Map"
   ]
  },
  {
   "cell_type": "code",
   "execution_count": null,
   "metadata": {
    "collapsed": false
   },
   "outputs": [],
   "source": [
    "list_of_numbers = [1, 2, 3, 4, 5, 6, 7, 8, 9, 10]\n",
    "\n",
    "def squared(number):\n",
    "    return number * number\n",
    "\n",
    "list_of_squared_numbers = []\n",
    "for number in list_of_numbers:\n",
    "    squared_number = squared(number)\n",
    "    list_of_squared_numbers.append(squared_number)\n",
    "\n",
    "print(list_of_squared_numbers)"
   ]
  },
  {
   "cell_type": "code",
   "execution_count": null,
   "metadata": {
    "collapsed": false
   },
   "outputs": [],
   "source": [
    "map_squared_numbers = map(squared, list_of_numbers)\n",
    "print(list(map_squared_numbers))"
   ]
  },
  {
   "cell_type": "markdown",
   "metadata": {},
   "source": [
    "## 9. Filter"
   ]
  },
  {
   "cell_type": "code",
   "execution_count": null,
   "metadata": {
    "collapsed": false
   },
   "outputs": [],
   "source": [
    "new_numbers = [10 , 20 , 30, 40, 50, 60, 70, 80 ,90, 100, 110, 120, 130, 140, 150]\n",
    "\n",
    "def less_than_100(number):\n",
    "    if number < 100:\n",
    "        return True\n",
    "    else:\n",
    "        return False\n",
    "\n",
    "small_numbers = filter(less_than_100, new_numbers)\n",
    "print(list(small_numbers))"
   ]
  },
  {
   "cell_type": "markdown",
   "metadata": {},
   "source": [
    "## 10. Reduce"
   ]
  },
  {
   "cell_type": "code",
   "execution_count": null,
   "metadata": {
    "collapsed": false
   },
   "outputs": [],
   "source": [
    "from functools import reduce\n",
    "\n",
    "other_numbers = [1, 2, 3, 4, 5, 6, 7, 8, 9, 10, 11, 12, 13, 14, 15, 16, 17, 18, 19, 20]\n",
    "\n",
    "def summing(num1, num2):\n",
    "    return num1 + num2\n",
    "\n",
    "sum_of_numbers = reduce(summing, other_numbers)\n",
    "print(sum_of_numbers)"
   ]
  },
  {
   "cell_type": "code",
   "execution_count": null,
   "metadata": {
    "collapsed": true
   },
   "outputs": [],
   "source": []
  }
 ],
 "metadata": {
  "kernelspec": {
   "display_name": "Python 3",
   "language": "python",
   "name": "python3"
  },
  "language_info": {
   "codemirror_mode": {
    "name": "ipython",
    "version": 3
   },
   "file_extension": ".py",
   "mimetype": "text/x-python",
   "name": "python",
   "nbconvert_exporter": "python",
   "pygments_lexer": "ipython3",
   "version": "3.4.3"
  }
 },
 "nbformat": 4,
 "nbformat_minor": 0
}
